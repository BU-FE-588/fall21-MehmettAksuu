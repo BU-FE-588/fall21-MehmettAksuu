{
 "cells": [
  {
   "cell_type": "code",
   "execution_count": 1,
   "id": "2b7a304a",
   "metadata": {},
   "outputs": [
    {
     "name": "stdout",
     "output_type": "stream",
     "text": [
      "Please enter the 1st number: 5\n",
      "Please enter the 2nd number: 7\n",
      "***********\n",
      "The sum is:  12\n",
      "The difference is:  -2\n",
      "The product is:  35\n",
      "The quotient is:  0.7142857142857143\n",
      "The remainder is:  5\n",
      "***********\n"
     ]
    }
   ],
   "source": [
    "### Task 1\n",
    "\n",
    "a = int(input('Please enter the 1st number: '))\n",
    "b = int(input ('Please enter the 2nd number: '))\n",
    "print ('***********')\n",
    "print ('The sum is: ',a+b)\n",
    "print ('The difference is: ',a-b)\n",
    "print ('The product is: ',a*b)\n",
    "print ('The quotient is: ',a/b)\n",
    "print ('The remainder is: ',a%b)\n",
    "print ('***********')"
   ]
  },
  {
   "cell_type": "code",
   "execution_count": 2,
   "id": "5a27ef45",
   "metadata": {},
   "outputs": [
    {
     "name": "stdout",
     "output_type": "stream",
     "text": [
      "Please enter the lenght of rectangle: 5\n",
      "Please enter the width of rectangle: 9\n",
      "***********\n",
      "The area of rectangle is:  45\n",
      "***********\n"
     ]
    }
   ],
   "source": [
    "### Task 2\n",
    "\n",
    "a = int(input('Please enter the lenght of rectangle: '))\n",
    "b = int(input('Please enter the width of rectangle: '))\n",
    "print ('***********')\n",
    "print ('The area of rectangle is: ',a*b)\n",
    "print ('***********')\n"
   ]
  },
  {
   "cell_type": "code",
   "execution_count": 3,
   "id": "3798bf20",
   "metadata": {},
   "outputs": [
    {
     "name": "stdout",
     "output_type": "stream",
     "text": [
      "Please insert a number greater than zero: 27\n",
      "***********\n",
      "Binary base-2 is: 11011\n",
      "***********\n"
     ]
    }
   ],
   "source": [
    "### Task 3\n",
    "a = ''\n",
    "b = int(input('Please insert a number greater than zero: '))\n",
    "\n",
    "while b != 0:\n",
    "    a = str(b%2) + a\n",
    "    b = b//2\n",
    "print ('***********')\n",
    "print('Binary base-2 is:',a)\n",
    "print ('***********')"
   ]
  },
  {
   "cell_type": "code",
   "execution_count": 4,
   "id": "20d90573",
   "metadata": {},
   "outputs": [
    {
     "name": "stdout",
     "output_type": "stream",
     "text": [
      "Please insert a number: -27\n",
      "***********\n",
      "-27 is odd..\n",
      "***********\n"
     ]
    }
   ],
   "source": [
    "### Task 4\n",
    "a = int(input('Please insert a number: '))\n",
    "if a%2 == 0:\n",
    "    print ('***********')\n",
    "    print(a,'is even..')\n",
    "    print ('***********')\n",
    "else:\n",
    "    print ('***********')\n",
    "    print(a,'is odd..')\n",
    "    print ('***********')"
   ]
  },
  {
   "cell_type": "code",
   "execution_count": 7,
   "id": "179497dc",
   "metadata": {},
   "outputs": [
    {
     "name": "stdout",
     "output_type": "stream",
     "text": [
      "Please enter a Year: 2007\n",
      "***********\n",
      "2007 is not a Leap Year..\n",
      "***********\n"
     ]
    }
   ],
   "source": [
    "### Task 5\n",
    "a = int(input('Please enter a Year: '))\n",
    "\n",
    "if a %4 == 0 and a %100 != 0:\n",
    "    print ('***********')\n",
    "    print(a, 'is a Leap Year..')\n",
    "    print ('***********')\n",
    "elif a % 100 == 0:\n",
    "    print ('***********')\n",
    "    print(a, \"is not a Leap Year..\")\n",
    "    print ('***********')\n",
    "elif a % 400 ==0:\n",
    "    print ('***********')\n",
    "    print(a, \"is a Leap Year..\")\n",
    "    print ('***********')\n",
    "else:\n",
    "    print ('***********')\n",
    "    print(a, \"is not a Leap Year..\")\n",
    "    print ('***********')"
   ]
  },
  {
   "cell_type": "code",
   "execution_count": 8,
   "id": "61f7487b",
   "metadata": {},
   "outputs": [
    {
     "name": "stdout",
     "output_type": "stream",
     "text": [
      "Please enter a Number: 5\n",
      "The List of Natural Numbers from 1 to 5\n",
      "***********\n",
      "1 \n",
      "2 \n",
      "3 \n",
      "4 \n",
      "5 \n",
      "***********\n"
     ]
    }
   ],
   "source": [
    "### Task 6\n",
    "\n",
    "a = int(input('Please enter a Number: '))\n",
    "print('The List of Natural Numbers from 1 to',a)\n",
    "print ('***********')\n",
    "for i in range (1,a+1):\n",
    "    print(i,'', end = '\\n')\n",
    "print ('***********')"
   ]
  },
  {
   "cell_type": "code",
   "execution_count": 9,
   "id": "20da06f5",
   "metadata": {},
   "outputs": [
    {
     "name": "stdout",
     "output_type": "stream",
     "text": [
      "Please enter a number: 348957\n",
      "***********\n",
      "Swapped version of the first and last digit is:  748953\n",
      "***********\n"
     ]
    }
   ],
   "source": [
    "### Task 7\n",
    "\n",
    "a = input(\"Please enter a number: \")\n",
    "b = (a[1:len(a)-1])\n",
    "print ('***********') \n",
    "print ('Swapped version of the first and last digit is: ',a[len(a)-1]+b+a[0])\n",
    "print ('***********') "
   ]
  },
  {
   "cell_type": "code",
   "execution_count": 10,
   "id": "98f0593f",
   "metadata": {},
   "outputs": [
    {
     "name": "stdout",
     "output_type": "stream",
     "text": [
      "Please enter a Number: 5\n",
      "***********\n",
      "Cube of 5 is 125\n",
      "***********\n"
     ]
    }
   ],
   "source": [
    "### Task 8\n",
    "\n",
    "def cube (a):\n",
    "    return (a*a*a)\n",
    "\n",
    "a = int(input('Please enter a Number: '))\n",
    "print ('***********')\n",
    "print ('Cube of {0} is {1}'.format(a,cube(a)))\n",
    "print ('***********')"
   ]
  },
  {
   "cell_type": "code",
   "execution_count": 11,
   "id": "17174370",
   "metadata": {},
   "outputs": [
    {
     "name": "stdout",
     "output_type": "stream",
     "text": [
      "Please enter lower bound: -1\n",
      "Please enter upper bound: 20\n",
      "***********\n",
      "2\n",
      "***********\n",
      "3\n",
      "***********\n",
      "5\n",
      "***********\n",
      "7\n",
      "***********\n",
      "11\n",
      "***********\n",
      "13\n",
      "***********\n",
      "17\n",
      "***********\n",
      "19\n",
      "***********\n"
     ]
    }
   ],
   "source": [
    "### Task 9\n",
    "a = int(input('Please enter lower bound: '))\n",
    "b = int(input('Please enter upper bound: '))\n",
    "\n",
    "if a>=b or b<=0:\n",
    "    print ('***********')\n",
    "    print('The second number should be a positive number and greater than the first number..')\n",
    "    print ('***********')\n",
    "else:\n",
    "    print ('***********')\n",
    "    for i in range(a,b+1):\n",
    "        if i>1:\n",
    "            for j in range (2,i):\n",
    "                if i%j==0:\n",
    "                    break\n",
    "            else:\n",
    "                print(i)\n",
    "                print ('***********')"
   ]
  },
  {
   "cell_type": "code",
   "execution_count": 12,
   "id": "a7fc00e9",
   "metadata": {},
   "outputs": [
    {
     "name": "stdout",
     "output_type": "stream",
     "text": [
      "How many numbers you want in your list: 6\n",
      "Enter the number: 22\n",
      "Enter the number: -5\n",
      "Enter the number: 3\n",
      "Enter the number: 11\n",
      "Enter the number: -7\n",
      "Enter the number: 9\n",
      "***********\n",
      "The sum of numbers in your list is:  33\n",
      "***********\n"
     ]
    }
   ],
   "source": [
    "### Task 10\n",
    "list = []\n",
    "a = int(input('How many numbers you want in your list: '))\n",
    "for b in range(a):\n",
    "    c=int(input('Enter the number: '))\n",
    "    list.append(c)\n",
    "print ('***********')    \n",
    "print('The sum of numbers in your list is: ',sum(list))\n",
    "print ('***********')"
   ]
  },
  {
   "cell_type": "code",
   "execution_count": 13,
   "id": "a3edd439",
   "metadata": {},
   "outputs": [
    {
     "name": "stdout",
     "output_type": "stream",
     "text": [
      "How many numbers you want in your list: 5\n",
      "Enter the number: 11\n",
      "Enter the number: 11\n",
      "Enter the number: 22\n",
      "Enter the number: 22\n",
      "Enter the number: 22\n",
      "***********\n",
      "The frequency of numbers in your list is:  {11: 2, 22: 3}\n",
      "***********\n"
     ]
    }
   ],
   "source": [
    "### Task 11\n",
    "list = []\n",
    "a = int(input('How many numbers you want in your list: '))\n",
    "for b in range(a):\n",
    "    c=int(input('Enter the number: '))\n",
    "    list.append(c)\n",
    "count={}\n",
    "for i in list:\n",
    "    if i in count:\n",
    "        count[i]+=1\n",
    "    else:\n",
    "        count[i]=1\n",
    "print ('***********')  \n",
    "print('The frequency of numbers in your list is: ',count)\n",
    "print ('***********')  "
   ]
  },
  {
   "cell_type": "code",
   "execution_count": 14,
   "id": "fb69a408",
   "metadata": {},
   "outputs": [
    {
     "name": "stdout",
     "output_type": "stream",
     "text": [
      "***********\n",
      "#####\n",
      "#####\n",
      "#####\n",
      "#####\n",
      "#####\n",
      "***********\n"
     ]
    }
   ],
   "source": [
    "### Task 12\n",
    "def a(side:int):\n",
    "    for i in range(side):\n",
    "        for k in range(side):\n",
    "            print(f'#', end = '')\n",
    "        print('')\n",
    "print ('***********')         \n",
    "a(5)\n",
    "print ('***********') "
   ]
  },
  {
   "cell_type": "code",
   "execution_count": null,
   "id": "3b945681",
   "metadata": {},
   "outputs": [],
   "source": []
  }
 ],
 "metadata": {
  "kernelspec": {
   "display_name": "Python 3",
   "language": "python",
   "name": "python3"
  },
  "language_info": {
   "codemirror_mode": {
    "name": "ipython",
    "version": 3
   },
   "file_extension": ".py",
   "mimetype": "text/x-python",
   "name": "python",
   "nbconvert_exporter": "python",
   "pygments_lexer": "ipython3",
   "version": "3.8.8"
  }
 },
 "nbformat": 4,
 "nbformat_minor": 5
}
